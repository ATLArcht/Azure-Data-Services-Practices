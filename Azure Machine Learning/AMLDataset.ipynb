{
  "cells": [
    {
      "cell_type": "markdown",
      "source": [
        "Consume Azure SQL DB datasets\r\n",
        "create a tublar dataset from SQL DB AML Datastore"
      ],
      "metadata": {
        "nteract": {
          "transient": {
            "deleting": false
          }
        }
      }
    },
    {
      "cell_type": "code",
      "source": [
        "# azureml-core of version 1.0.72 or higher is required\r\n",
        "# azureml-dataprep[pandas] of version 1.1.34 or higher is required\r\n",
        "from azureml.core import Workspace, Dataset\r\n",
        "\r\n",
        "subscription_id = 'fba2d5a6-92e1-4647-9725-f7cdbfbecbad'\r\n",
        "resource_group = 'AIMLRG'\r\n",
        "workspace_name = 'AML1120'\r\n",
        "\r\n",
        "workspace = Workspace(subscription_id, resource_group, workspace_name)\r\n",
        "\r\n",
        "dataset = Dataset.get_by_name(workspace, name='ProductDatasets')\r\n",
        "dataset.to_pandas_dataframe()"
      ],
      "outputs": [
        {
          "output_type": "execute_result",
          "execution_count": 3,
          "data": {
            "text/plain": "      ProductID                     Name       ProductModel CultureID  \\\n0           994        LL Bottom Bracket  LL Bottom Bracket    en       \n1           995        ML Bottom Bracket  ML Bottom Bracket    en       \n2           996        HL Bottom Bracket  HL Bottom Bracket    en       \n3           984  Mountain-500 Silver, 40       Mountain-500    en       \n4           985  Mountain-500 Silver, 42       Mountain-500    en       \n...         ...                      ...                ...       ...   \n1759        894          Rear Derailleur    Rear Derailleur    ar       \n1760        894          Rear Derailleur    Rear Derailleur    fr       \n1761        894          Rear Derailleur    Rear Derailleur    th       \n1762        894          Rear Derailleur    Rear Derailleur    he       \n1763        894          Rear Derailleur    Rear Derailleur    zh-cht   \n\n                                            Description  \n0                                       Chromoly steel.  \n1          Aluminum alloy cups; large diameter spindle.  \n2                Aluminum alloy cups and a hollow axle.  \n3     Suitable for any type of riding, on or off-roa...  \n4     Suitable for any type of riding, on or off-roa...  \n...                                                 ...  \n1759                                تصميم عريض الوصلات.  \n1760                          Conception liaison large.  \n1761                       การออกแบบให้มีจุดเชื่อมกว้าง  \n1762                                  עיצוב רחב-חוליות.  \n1763                                             宽连杆设计。  \n\n[1764 rows x 5 columns]",
            "text/html": "<div>\n<style scoped>\n    .dataframe tbody tr th:only-of-type {\n        vertical-align: middle;\n    }\n\n    .dataframe tbody tr th {\n        vertical-align: top;\n    }\n\n    .dataframe thead th {\n        text-align: right;\n    }\n</style>\n<table border=\"1\" class=\"dataframe\">\n  <thead>\n    <tr style=\"text-align: right;\">\n      <th></th>\n      <th>ProductID</th>\n      <th>Name</th>\n      <th>ProductModel</th>\n      <th>CultureID</th>\n      <th>Description</th>\n    </tr>\n  </thead>\n  <tbody>\n    <tr>\n      <th>0</th>\n      <td>994</td>\n      <td>LL Bottom Bracket</td>\n      <td>LL Bottom Bracket</td>\n      <td>en</td>\n      <td>Chromoly steel.</td>\n    </tr>\n    <tr>\n      <th>1</th>\n      <td>995</td>\n      <td>ML Bottom Bracket</td>\n      <td>ML Bottom Bracket</td>\n      <td>en</td>\n      <td>Aluminum alloy cups; large diameter spindle.</td>\n    </tr>\n    <tr>\n      <th>2</th>\n      <td>996</td>\n      <td>HL Bottom Bracket</td>\n      <td>HL Bottom Bracket</td>\n      <td>en</td>\n      <td>Aluminum alloy cups and a hollow axle.</td>\n    </tr>\n    <tr>\n      <th>3</th>\n      <td>984</td>\n      <td>Mountain-500 Silver, 40</td>\n      <td>Mountain-500</td>\n      <td>en</td>\n      <td>Suitable for any type of riding, on or off-roa...</td>\n    </tr>\n    <tr>\n      <th>4</th>\n      <td>985</td>\n      <td>Mountain-500 Silver, 42</td>\n      <td>Mountain-500</td>\n      <td>en</td>\n      <td>Suitable for any type of riding, on or off-roa...</td>\n    </tr>\n    <tr>\n      <th>...</th>\n      <td>...</td>\n      <td>...</td>\n      <td>...</td>\n      <td>...</td>\n      <td>...</td>\n    </tr>\n    <tr>\n      <th>1759</th>\n      <td>894</td>\n      <td>Rear Derailleur</td>\n      <td>Rear Derailleur</td>\n      <td>ar</td>\n      <td>تصميم عريض الوصلات.</td>\n    </tr>\n    <tr>\n      <th>1760</th>\n      <td>894</td>\n      <td>Rear Derailleur</td>\n      <td>Rear Derailleur</td>\n      <td>fr</td>\n      <td>Conception liaison large.</td>\n    </tr>\n    <tr>\n      <th>1761</th>\n      <td>894</td>\n      <td>Rear Derailleur</td>\n      <td>Rear Derailleur</td>\n      <td>th</td>\n      <td>การออกแบบให้มีจุดเชื่อมกว้าง</td>\n    </tr>\n    <tr>\n      <th>1762</th>\n      <td>894</td>\n      <td>Rear Derailleur</td>\n      <td>Rear Derailleur</td>\n      <td>he</td>\n      <td>עיצוב רחב-חוליות.</td>\n    </tr>\n    <tr>\n      <th>1763</th>\n      <td>894</td>\n      <td>Rear Derailleur</td>\n      <td>Rear Derailleur</td>\n      <td>zh-cht</td>\n      <td>宽连杆设计。</td>\n    </tr>\n  </tbody>\n</table>\n<p>1764 rows × 5 columns</p>\n</div>"
          },
          "metadata": {}
        }
      ],
      "execution_count": 3,
      "metadata": {
        "gather": {
          "logged": 1606883463074
        }
      }
    },
    {
      "cell_type": "markdown",
      "source": [
        "Access Parquet on blob storage\r\n",
        "create tabular dataset to access parquet on blob storage\r\n",
        "note ADLS Gen2 maybe fail"
      ],
      "metadata": {
        "nteract": {
          "transient": {
            "deleting": false
          }
        }
      }
    },
    {
      "cell_type": "code",
      "source": [
        "# azureml-core of version 1.0.72 or higher is required\r\n",
        "# azureml-dataprep[pandas] of version 1.1.34 or higher is required\r\n",
        "from azureml.core import Workspace, Dataset\r\n",
        "\r\n",
        "subscription_id = 'fba2d5a6-92e1-4647-9725-f7cdbfbecbad'\r\n",
        "resource_group = 'AIMLRG'\r\n",
        "workspace_name = 'AML1120'\r\n",
        "\r\n",
        "workspace = Workspace(subscription_id, resource_group, workspace_name)\r\n",
        "\r\n",
        "dataset = Dataset.get_by_name(workspace, name='DepartmentParquetDatasets')\r\n",
        "dataset.to_pandas_dataframe()"
      ],
      "outputs": [
        {
          "output_type": "execute_result",
          "execution_count": 23,
          "data": {
            "text/plain": "                                                 Path  DepartmentID  \\\n0   /AdventureWorks2017/HumanResources.Department....             1   \n1   /AdventureWorks2017/HumanResources.Department....             2   \n2   /AdventureWorks2017/HumanResources.Department....             3   \n3   /AdventureWorks2017/HumanResources.Department....             4   \n4   /AdventureWorks2017/HumanResources.Department....             5   \n5   /AdventureWorks2017/HumanResources.Department....             6   \n6   /AdventureWorks2017/HumanResources.Department....             7   \n7   /AdventureWorks2017/HumanResources.Department....             8   \n8   /AdventureWorks2017/HumanResources.Department....             9   \n9   /AdventureWorks2017/HumanResources.Department....            10   \n10  /AdventureWorks2017/HumanResources.Department....            11   \n11  /AdventureWorks2017/HumanResources.Department....            12   \n12  /AdventureWorks2017/HumanResources.Department....            13   \n13  /AdventureWorks2017/HumanResources.Department....            14   \n14  /AdventureWorks2017/HumanResources.Department....            15   \n15  /AdventureWorks2017/HumanResources.Department....            16   \n\n                          Name                             GroupName  \\\n0                  Engineering              Research and Development   \n1                  Tool Design              Research and Development   \n2                        Sales                   Sales and Marketing   \n3                    Marketing                   Sales and Marketing   \n4                   Purchasing                  Inventory Management   \n5     Research and Development              Research and Development   \n6                   Production                         Manufacturing   \n7           Production Control                         Manufacturing   \n8              Human Resources  Executive General and Administration   \n9                      Finance  Executive General and Administration   \n10        Information Services  Executive General and Administration   \n11            Document Control                     Quality Assurance   \n12           Quality Assurance                     Quality Assurance   \n13  Facilities and Maintenance  Executive General and Administration   \n14      Shipping and Receiving                  Inventory Management   \n15                   Executive  Executive General and Administration   \n\n   ModifiedDate  \n0    2008-04-30  \n1    2008-04-30  \n2    2008-04-30  \n3    2008-04-30  \n4    2008-04-30  \n5    2008-04-30  \n6    2008-04-30  \n7    2008-04-30  \n8    2008-04-30  \n9    2008-04-30  \n10   2008-04-30  \n11   2008-04-30  \n12   2008-04-30  \n13   2008-04-30  \n14   2008-04-30  \n15   2008-04-30  ",
            "text/html": "<div>\n<style scoped>\n    .dataframe tbody tr th:only-of-type {\n        vertical-align: middle;\n    }\n\n    .dataframe tbody tr th {\n        vertical-align: top;\n    }\n\n    .dataframe thead th {\n        text-align: right;\n    }\n</style>\n<table border=\"1\" class=\"dataframe\">\n  <thead>\n    <tr style=\"text-align: right;\">\n      <th></th>\n      <th>Path</th>\n      <th>DepartmentID</th>\n      <th>Name</th>\n      <th>GroupName</th>\n      <th>ModifiedDate</th>\n    </tr>\n  </thead>\n  <tbody>\n    <tr>\n      <th>0</th>\n      <td>/AdventureWorks2017/HumanResources.Department....</td>\n      <td>1</td>\n      <td>Engineering</td>\n      <td>Research and Development</td>\n      <td>2008-04-30</td>\n    </tr>\n    <tr>\n      <th>1</th>\n      <td>/AdventureWorks2017/HumanResources.Department....</td>\n      <td>2</td>\n      <td>Tool Design</td>\n      <td>Research and Development</td>\n      <td>2008-04-30</td>\n    </tr>\n    <tr>\n      <th>2</th>\n      <td>/AdventureWorks2017/HumanResources.Department....</td>\n      <td>3</td>\n      <td>Sales</td>\n      <td>Sales and Marketing</td>\n      <td>2008-04-30</td>\n    </tr>\n    <tr>\n      <th>3</th>\n      <td>/AdventureWorks2017/HumanResources.Department....</td>\n      <td>4</td>\n      <td>Marketing</td>\n      <td>Sales and Marketing</td>\n      <td>2008-04-30</td>\n    </tr>\n    <tr>\n      <th>4</th>\n      <td>/AdventureWorks2017/HumanResources.Department....</td>\n      <td>5</td>\n      <td>Purchasing</td>\n      <td>Inventory Management</td>\n      <td>2008-04-30</td>\n    </tr>\n    <tr>\n      <th>5</th>\n      <td>/AdventureWorks2017/HumanResources.Department....</td>\n      <td>6</td>\n      <td>Research and Development</td>\n      <td>Research and Development</td>\n      <td>2008-04-30</td>\n    </tr>\n    <tr>\n      <th>6</th>\n      <td>/AdventureWorks2017/HumanResources.Department....</td>\n      <td>7</td>\n      <td>Production</td>\n      <td>Manufacturing</td>\n      <td>2008-04-30</td>\n    </tr>\n    <tr>\n      <th>7</th>\n      <td>/AdventureWorks2017/HumanResources.Department....</td>\n      <td>8</td>\n      <td>Production Control</td>\n      <td>Manufacturing</td>\n      <td>2008-04-30</td>\n    </tr>\n    <tr>\n      <th>8</th>\n      <td>/AdventureWorks2017/HumanResources.Department....</td>\n      <td>9</td>\n      <td>Human Resources</td>\n      <td>Executive General and Administration</td>\n      <td>2008-04-30</td>\n    </tr>\n    <tr>\n      <th>9</th>\n      <td>/AdventureWorks2017/HumanResources.Department....</td>\n      <td>10</td>\n      <td>Finance</td>\n      <td>Executive General and Administration</td>\n      <td>2008-04-30</td>\n    </tr>\n    <tr>\n      <th>10</th>\n      <td>/AdventureWorks2017/HumanResources.Department....</td>\n      <td>11</td>\n      <td>Information Services</td>\n      <td>Executive General and Administration</td>\n      <td>2008-04-30</td>\n    </tr>\n    <tr>\n      <th>11</th>\n      <td>/AdventureWorks2017/HumanResources.Department....</td>\n      <td>12</td>\n      <td>Document Control</td>\n      <td>Quality Assurance</td>\n      <td>2008-04-30</td>\n    </tr>\n    <tr>\n      <th>12</th>\n      <td>/AdventureWorks2017/HumanResources.Department....</td>\n      <td>13</td>\n      <td>Quality Assurance</td>\n      <td>Quality Assurance</td>\n      <td>2008-04-30</td>\n    </tr>\n    <tr>\n      <th>13</th>\n      <td>/AdventureWorks2017/HumanResources.Department....</td>\n      <td>14</td>\n      <td>Facilities and Maintenance</td>\n      <td>Executive General and Administration</td>\n      <td>2008-04-30</td>\n    </tr>\n    <tr>\n      <th>14</th>\n      <td>/AdventureWorks2017/HumanResources.Department....</td>\n      <td>15</td>\n      <td>Shipping and Receiving</td>\n      <td>Inventory Management</td>\n      <td>2008-04-30</td>\n    </tr>\n    <tr>\n      <th>15</th>\n      <td>/AdventureWorks2017/HumanResources.Department....</td>\n      <td>16</td>\n      <td>Executive</td>\n      <td>Executive General and Administration</td>\n      <td>2008-04-30</td>\n    </tr>\n  </tbody>\n</table>\n</div>"
          },
          "metadata": {}
        }
      ],
      "execution_count": 23,
      "metadata": {
        "collapsed": true,
        "jupyter": {
          "source_hidden": false,
          "outputs_hidden": false
        },
        "nteract": {
          "transient": {
            "deleting": false
          }
        },
        "gather": {
          "logged": 1606885355847
        }
      }
    }
  ],
  "metadata": {
    "kernelspec": {
      "name": "python3-azureml",
      "language": "python",
      "display_name": "Python 3.6 - AzureML"
    },
    "language_info": {
      "name": "python",
      "version": "3.6.9",
      "mimetype": "text/x-python",
      "codemirror_mode": {
        "name": "ipython",
        "version": 3
      },
      "pygments_lexer": "ipython3",
      "nbconvert_exporter": "python",
      "file_extension": ".py"
    },
    "kernel_info": {
      "name": "python3-azureml"
    },
    "nteract": {
      "version": "nteract-front-end@1.0.0"
    }
  },
  "nbformat": 4,
  "nbformat_minor": 2
}